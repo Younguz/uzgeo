{
 "cells": [
  {
   "cell_type": "markdown",
   "metadata": {},
   "source": [
    "[![image](https://colab.research.google.com/assets/colab-badge.svg)](https://colab.research.google.com/github/Younguz/uzgeo/blob/main/docs/examples/introfunction.ipynb)"
   ]
  },
  {
   "cell_type": "markdown",
   "metadata": {},
   "source": [
    "Introduction\n",
    "\n",
    "When you want to use a package, use import to load it."
   ]
  },
  {
   "cell_type": "code",
   "execution_count": 1,
   "metadata": {},
   "outputs": [
    {
     "ename": "IndentationError",
     "evalue": "unindent does not match any outer indentation level (uzgeo.py, line 68)",
     "output_type": "error",
     "traceback": [
      "Traceback \u001b[1;36m(most recent call last)\u001b[0m:\n",
      "\u001b[0m  File \u001b[0;32me:\\Minicoda\\envs\\UZVB\\Lib\\site-packages\\IPython\\core\\interactiveshell.py:3553\u001b[0m in \u001b[0;35mrun_code\u001b[0m\n    exec(code_obj, self.user_global_ns, self.user_ns)\u001b[0m\n",
      "\u001b[0m  Cell \u001b[0;32mIn[1], line 1\u001b[0m\n    import uzgeo\u001b[0m\n",
      "\u001b[1;36m  File \u001b[1;32m~\\uzgeo\\uzgeo\\__init__.py:7\u001b[1;36m\n\u001b[1;33m    from .uzgeo import Map\u001b[1;36m\n",
      "\u001b[1;36m  File \u001b[1;32m~\\uzgeo\\uzgeo\\uzgeo.py:68\u001b[1;36m\u001b[0m\n\u001b[1;33m    def add_shp(self, data, name=\"shp\", **kwargs):\u001b[0m\n\u001b[1;37m                                                  ^\u001b[0m\n\u001b[1;31mIndentationError\u001b[0m\u001b[1;31m:\u001b[0m unindent does not match any outer indentation level\n"
     ]
    }
   ],
   "source": [
    "import uzgeo"
   ]
  },
  {
   "cell_type": "markdown",
   "metadata": {},
   "source": [
    "Print function\n",
    "\n",
    "When you need to use the print function, use it in this way."
   ]
  },
  {
   "cell_type": "code",
   "execution_count": 2,
   "metadata": {},
   "outputs": [
    {
     "name": "stdout",
     "output_type": "stream",
     "text": [
      "what you want to print\n"
     ]
    }
   ],
   "source": [
    "print(\"what you want to print\")"
   ]
  },
  {
   "cell_type": "markdown",
   "metadata": {},
   "source": [
    "When you are trying to find the mean of a number sequence, check the example/Mean. You can know that how to use the function."
   ]
  },
  {
   "cell_type": "markdown",
   "metadata": {},
   "source": [
    "\n",
    "\n",
    "\n",
    "\n",
    "\n",
    "\n",
    "This package can help you quickly create previewable maps and focus on anywhere in the world. Check the usage of map class in the example."
   ]
  },
  {
   "cell_type": "markdown",
   "metadata": {},
   "source": [
    "Here is the method of using add_vector(), the add_vector method is a part of a Python class designed to add vector data layers to a map visualization. It is versatile, accepting data in various formats, including paths to GeoJSON or shapefile formats, GeoJSON dictionaries directly, or geospatial data encapsulated in a GeoPandas GeoDataFrame."
   ]
  },
  {
   "cell_type": "code",
   "execution_count": 4,
   "metadata": {},
   "outputs": [
    {
     "ename": "AttributeError",
     "evalue": "'Map' object has no attribute 'add_vector'",
     "output_type": "error",
     "traceback": [
      "\u001b[1;31m---------------------------------------------------------------------------\u001b[0m",
      "\u001b[1;31mAttributeError\u001b[0m                            Traceback (most recent call last)",
      "Cell \u001b[1;32mIn[4], line 26\u001b[0m\n\u001b[0;32m      7\u001b[0m protected_area_geojson \u001b[38;5;241m=\u001b[39m {\n\u001b[0;32m      8\u001b[0m     \u001b[38;5;124m\"\u001b[39m\u001b[38;5;124mtype\u001b[39m\u001b[38;5;124m\"\u001b[39m: \u001b[38;5;124m\"\u001b[39m\u001b[38;5;124mFeature\u001b[39m\u001b[38;5;124m\"\u001b[39m,\n\u001b[0;32m      9\u001b[0m     \u001b[38;5;124m\"\u001b[39m\u001b[38;5;124mproperties\u001b[39m\u001b[38;5;124m\"\u001b[39m: {},\n\u001b[1;32m   (...)\u001b[0m\n\u001b[0;32m     22\u001b[0m     }\n\u001b[0;32m     23\u001b[0m }\n\u001b[0;32m     25\u001b[0m \u001b[38;5;66;03m# Assuming you have a method to add GeoJSON directly\u001b[39;00m\n\u001b[1;32m---> 26\u001b[0m \u001b[43mmy_map\u001b[49m\u001b[38;5;241;43m.\u001b[39;49m\u001b[43madd_vector\u001b[49m(protected_area_geojson, name\u001b[38;5;241m=\u001b[39m\u001b[38;5;124m\"\u001b[39m\u001b[38;5;124mProtected Area\u001b[39m\u001b[38;5;124m\"\u001b[39m)\n\u001b[0;32m     28\u001b[0m \u001b[38;5;66;03m# If you have a GeoJSON file, you can read it directly (assuming the method supports file paths)\u001b[39;00m\n\u001b[0;32m     29\u001b[0m my_map\u001b[38;5;241m.\u001b[39madd_vector(\u001b[38;5;124m\"\u001b[39m\u001b[38;5;124mpath/to/city_locations.geojson\u001b[39m\u001b[38;5;124m\"\u001b[39m, name\u001b[38;5;241m=\u001b[39m\u001b[38;5;124m\"\u001b[39m\u001b[38;5;124mCity Locations\u001b[39m\u001b[38;5;124m\"\u001b[39m)\n",
      "\u001b[1;31mAttributeError\u001b[0m: 'Map' object has no attribute 'add_vector'"
     ]
    }
   ],
   "source": [
    "import uzgeo\n",
    "\n",
    "# Initialize your map\n",
    "my_map = uzgeo.Map()\n",
    "\n",
    "# Example GeoJSON data for a protected area\n",
    "protected_area_geojson = {\n",
    "    \"type\": \"Feature\",\n",
    "    \"properties\": {},\n",
    "    \"geometry\": {\n",
    "        \"type\": \"Polygon\",\n",
    "        \"coordinates\": [\n",
    "            [\n",
    "                [-101.744384765625, 39.32155002466662],\n",
    "                [-101.5521240234375, 39.330048552942415],\n",
    "                [-101.40380859375, 39.330048552942415],\n",
    "                [-101.40380859375, 39.253271144061134],\n",
    "                [-101.5166015625, 39.18805002966845],\n",
    "                [-101.744384765625, 39.32155002466662]\n",
    "            ]\n",
    "        ]\n",
    "    }\n",
    "}\n",
    "\n",
    "# Assuming you have a method to add GeoJSON directly\n",
    "my_map.add_vector(protected_area_geojson, name=\"Protected Area\")\n",
    "\n",
    "# If you have a GeoJSON file, you can read it directly (assuming the method supports file paths)\n",
    "my_map.add_vector(\"path/to/city_locations.geojson\", name=\"City Locations\")\n",
    "\n",
    "\n"
   ]
  },
  {
   "cell_type": "markdown",
   "metadata": {},
   "source": [
    "Conclusion\n",
    "\n",
    "This package can help you quickly import some practical functions and solve some troublesome mathematical and geographical problems."
   ]
  }
 ],
 "metadata": {
  "kernelspec": {
   "display_name": "UZVB",
   "language": "python",
   "name": "python3"
  },
  "language_info": {
   "codemirror_mode": {
    "name": "ipython",
    "version": 3
   },
   "file_extension": ".py",
   "mimetype": "text/x-python",
   "name": "python",
   "nbconvert_exporter": "python",
   "pygments_lexer": "ipython3",
   "version": "3.11.7"
  }
 },
 "nbformat": 4,
 "nbformat_minor": 2
}
