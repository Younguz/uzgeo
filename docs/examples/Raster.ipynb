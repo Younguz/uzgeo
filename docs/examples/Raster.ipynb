{
 "cells": [
  {
   "cell_type": "code",
   "execution_count": 1,
   "metadata": {},
   "outputs": [
    {
     "data": {
      "application/vnd.jupyter.widget-view+json": {
       "model_id": "5ddf02d0ef8940608e657f5ea519dd51",
       "version_major": 2,
       "version_minor": 0
      },
      "text/plain": [
       "Map(center=[25, -115], controls=(ZoomControl(options=['position', 'zoom_in_text', 'zoom_in_title', 'zoom_out_t…"
      ]
     },
     "metadata": {},
     "output_type": "display_data"
    }
   ],
   "source": [
    "from ipyleaflet import Map, ImageOverlay\n",
    "\n",
    "m = Map(center=(25, -115), zoom=4)\n",
    "\n",
    "image = ImageOverlay(\n",
    "    url=\"https://i.imgur.com/06Q1fSz.png\",\n",
    "    # url='../06Q1fSz.png',\n",
    "    bounds=((13, -130), (32, -100)),\n",
    ")\n",
    "\n",
    "m.add(image)\n",
    "m\n"
   ]
  },
  {
   "cell_type": "code",
   "execution_count": 2,
   "metadata": {},
   "outputs": [],
   "source": [
    "import uzgeo"
   ]
  },
  {
   "cell_type": "code",
   "execution_count": 5,
   "metadata": {},
   "outputs": [
    {
     "ename": "AttributeError",
     "evalue": "'Map' object has no attribute 'add_image'",
     "output_type": "error",
     "traceback": [
      "\u001b[1;31m---------------------------------------------------------------------------\u001b[0m",
      "\u001b[1;31mAttributeError\u001b[0m                            Traceback (most recent call last)",
      "Cell \u001b[1;32mIn[5], line 6\u001b[0m\n\u001b[0;32m      4\u001b[0m \u001b[38;5;66;03m# url='../06Q1fSz.png',\u001b[39;00m\n\u001b[0;32m      5\u001b[0m bounds \u001b[38;5;241m=\u001b[39m ((\u001b[38;5;241m13\u001b[39m, \u001b[38;5;241m100\u001b[39m), (\u001b[38;5;241m45\u001b[39m, \u001b[38;5;241m130\u001b[39m))\n\u001b[1;32m----> 6\u001b[0m \u001b[43mm\u001b[49m\u001b[38;5;241;43m.\u001b[39;49m\u001b[43madd_image\u001b[49m(url, bounds)\n\u001b[0;32m      7\u001b[0m m\u001b[38;5;241m.\u001b[39madd_layers_control()\n\u001b[0;32m      8\u001b[0m \u001b[38;5;66;03m# m.scroll_wheel_zoom = True\u001b[39;00m\n",
      "\u001b[1;31mAttributeError\u001b[0m: 'Map' object has no attribute 'add_image'"
     ]
    }
   ],
   "source": [
    "m = uzgeo.Map()\n",
    "\n",
    "url = \"https://i.gifer.com/4j.gif\"\n",
    "# url='../06Q1fSz.png',\n",
    "bounds = ((13, 100), (45, 130))\n",
    "m.add_image(url, bounds)\n",
    "m.add_layers_control()\n",
    "# m.scroll_wheel_zoom = True\n",
    "m"
   ]
  },
  {
   "cell_type": "code",
   "execution_count": 6,
   "metadata": {},
   "outputs": [
    {
     "data": {
      "application/vnd.jupyter.widget-view+json": {
       "model_id": "0c4a0036f774436f93919f71176c0933",
       "version_major": 2,
       "version_minor": 0
      },
      "text/plain": [
       "Map(center=[37.63046720520512, -119.03021877270292], controls=(ZoomControl(options=['position', 'zoom_in_text'…"
      ]
     },
     "metadata": {},
     "output_type": "display_data"
    }
   ],
   "source": [
    "from localtileserver import TileClient, get_leaflet_tile_layer, examples\n",
    "from ipyleaflet import Map\n",
    "\n",
    "# Create a TileClient from a raster file\n",
    "# client = TileClient('srtm90.tif')\n",
    "client = TileClient(\n",
    "    \"https://github.com/opengeos/datasets/releases/download/raster/srtm90.tif\"\n",
    ")\n",
    "# client = TileClient('https://opendata.digitalglobe.com/events/california-fire-2020/pre-event/2018-02-16/pine-gulch-fire20/1030010076004E00.tif')\n",
    "# client = examples.get_san_francisco()  # use example data\n",
    "\n",
    "# Create ipyleaflet TileLayer from that server\n",
    "t = get_leaflet_tile_layer(client)\n",
    "# Create ipyleaflet map, add tile layer, and display\n",
    "m = Map()\n",
    "m.add(t)\n",
    "m.center = client.center()\n",
    "m.zoom = client.default_zoom\n",
    "m"
   ]
  },
  {
   "cell_type": "code",
   "execution_count": 8,
   "metadata": {},
   "outputs": [
    {
     "ename": "AttributeError",
     "evalue": "'Map' object has no attribute 'add_raster'",
     "output_type": "error",
     "traceback": [
      "\u001b[1;31m---------------------------------------------------------------------------\u001b[0m",
      "\u001b[1;31mAttributeError\u001b[0m                            Traceback (most recent call last)",
      "Cell \u001b[1;32mIn[8], line 3\u001b[0m\n\u001b[0;32m      1\u001b[0m m \u001b[38;5;241m=\u001b[39m uzgeo\u001b[38;5;241m.\u001b[39mMap(add_layer_control\u001b[38;5;241m=\u001b[39m\u001b[38;5;28;01mFalse\u001b[39;00m)\n\u001b[0;32m      2\u001b[0m data \u001b[38;5;241m=\u001b[39m \u001b[38;5;124m\"\u001b[39m\u001b[38;5;124mhttps://github.com/opengeos/datasets/releases/download/raster/srtm90.tif\u001b[39m\u001b[38;5;124m\"\u001b[39m\n\u001b[1;32m----> 3\u001b[0m \u001b[43mm\u001b[49m\u001b[38;5;241;43m.\u001b[39;49m\u001b[43madd_raster\u001b[49m(data, cmap\u001b[38;5;241m=\u001b[39m\u001b[38;5;124m\"\u001b[39m\u001b[38;5;124mterrain\u001b[39m\u001b[38;5;124m\"\u001b[39m, name\u001b[38;5;241m=\u001b[39m\u001b[38;5;124m\"\u001b[39m\u001b[38;5;124mDEM\u001b[39m\u001b[38;5;124m\"\u001b[39m)\n\u001b[0;32m      4\u001b[0m m\n\u001b[0;32m      5\u001b[0m m\u001b[38;5;241m.\u001b[39mlayers[\u001b[38;5;241m0\u001b[39m]\u001b[38;5;241m.\u001b[39minteract(opacity\u001b[38;5;241m=\u001b[39m(\u001b[38;5;241m0.0\u001b[39m, \u001b[38;5;241m1.0\u001b[39m, \u001b[38;5;241m0.1\u001b[39m))\n",
      "\u001b[1;31mAttributeError\u001b[0m: 'Map' object has no attribute 'add_raster'"
     ]
    }
   ],
   "source": [
    "m = uzgeo.Map(add_layer_control=False)\n",
    "data = \"https://github.com/opengeos/datasets/releases/download/raster/srtm90.tif\"\n",
    "m.add_raster(data, cmap=\"terrain\", name=\"DEM\")\n",
    "m\n",
    "m.layers[0].interact(opacity=(0.0, 1.0, 0.1))\n",
    "m.layers\n",
    "client.center()\n",
    "client.default_zoom\n",
    "\n",
    "\n",
    "\n",
    "m.layers"
   ]
  }
 ],
 "metadata": {
  "kernelspec": {
   "display_name": "UZVB",
   "language": "python",
   "name": "python3"
  },
  "language_info": {
   "codemirror_mode": {
    "name": "ipython",
    "version": 3
   },
   "file_extension": ".py",
   "mimetype": "text/x-python",
   "name": "python",
   "nbconvert_exporter": "python",
   "pygments_lexer": "ipython3",
   "version": "3.11.7"
  }
 },
 "nbformat": 4,
 "nbformat_minor": 2
}
