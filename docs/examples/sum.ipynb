from uzgeo.common import sum_of_sequence
my_sequence = [1, 2, 3, 4, 5]
print(sum_of_sequence(my_sequence)) 
