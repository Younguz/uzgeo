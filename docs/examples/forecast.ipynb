{
 "cells": [
  {
   "cell_type": "code",
   "execution_count": 2,
   "metadata": {},
   "outputs": [
    {
     "name": "stdout",
     "output_type": "stream",
     "text": [
      "[(40.61748924221347, -73.60652016617284), (40.75173753962576, -73.15578170994746), (40.90862841743339, -73.48567442542651), (40.488676021127844, -73.58367500985055), (40.43237647763079, -73.7363850187438), (40.116093818562774, -73.0425475934599), (40.71566584892917, -73.19778530151419), (40.440465460250046, -73.25798425306894), (40.8846009363603, -73.8073204992184), (40.92999867284617, -73.13640478182205)]\n"
     ]
    }
   ],
   "source": [
    "import uzgeo\n",
    "\n",
    "from uzgeo.common import generate_random_points\n",
    "\n",
    "random_points = generate_random_points(10, 40.0, 41.0, -74.0, -73.0)\n",
    "\n",
    "print(random_points)"
   ]
  },
  {
   "cell_type": "code",
   "execution_count": 1,
   "metadata": {},
   "outputs": [
    {
     "name": "stdout",
     "output_type": "stream",
     "text": [
      "Original Sequence: [1, 2, 3, 4, 5, 6, 7, 8, 9]\n",
      "Forecasted Sequence: [1.    2.    3.    4.    5.    6.    7.    8.    9.    8.5   8.75  8.625]\n"
     ]
    }
   ],
   "source": [
    "from uzgeo.common import forecast_sequence\n",
    "\n",
    "sequence = [1, 2, 3, 4, 5, 6, 7, 8, 9]\n",
    "forecasted_sequence = forecast_sequence(sequence, forecast_periods=3, lag=2)\n",
    "print(\"Original Sequence:\", sequence)\n",
    "print(\"Forecasted Sequence:\", forecasted_sequence)"
   ]
  }
 ],
 "metadata": {
  "kernelspec": {
   "display_name": "UZVB",
   "language": "python",
   "name": "python3"
  },
  "language_info": {
   "codemirror_mode": {
    "name": "ipython",
    "version": 3
   },
   "file_extension": ".py",
   "mimetype": "text/x-python",
   "name": "python",
   "nbconvert_exporter": "python",
   "pygments_lexer": "ipython3",
   "version": "3.11.7"
  }
 },
 "nbformat": 4,
 "nbformat_minor": 2
}
