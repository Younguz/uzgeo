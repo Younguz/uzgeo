{
 "cells": [
  {
   "cell_type": "markdown",
   "metadata": {},
   "source": [
    "[![image](https://colab.research.google.com/assets/colab-badge.svg)](https://colab.research.google.com/github/Younguz/uzgeo/blob/main/docs/examples/vector.ipynb)"
   ]
  },
  {
   "cell_type": "markdown",
   "metadata": {},
   "source": [
    "The function first initializes an empty GeoJSON-like structure (geojson_data) to store the vector data.\n",
    "It then iterates over each item in the provided data.\n",
    "For each item, it constructs a GeoJSON-like feature representation containing information about the feature's properties and geometry.\n",
    "These features are appended to the geojson_data['features'] list.\n",
    "Finally, the constructed GeoJSON data is passed to a method from the uzgeo package to add the vector layer to the map. However, the specific method to add the GeoJSON data to the map is not implemented in this code snippet and needs to be provided externally."
   ]
  },
  {
   "cell_type": "code",
   "execution_count": 2,
   "metadata": {},
   "outputs": [],
   "source": [
    "def add_vector(data, name=\"Vector\", **kwargs):\n",
    "    \"\"\"Adds a vector layer to the map using uzgeo.\n",
    "\n",
    "    Args:\n",
    "        data (list of dict): The vector data. Each dictionary represents a feature.\n",
    "        name (str, optional): The name of the layer. Defaults to \"Vector\".\n",
    "    \"\"\"\n",
    "    geojson_data = {\n",
    "        \"type\": \"FeatureCollection\",\n",
    "        \"features\": []\n",
    "    }\n",
    "\n",
    "    for item in data:\n",
    "        feature = {\n",
    "            \"type\": \"Feature\",\n",
    "            \"properties\": {\"City\": item[\"City\"]},\n",
    "            \"geometry\": {\n",
    "                \"type\": \"Point\",\n",
    "                \"coordinates\": [item[\"Longitude\"], item[\"Latitude\"]]\n",
    "            }\n",
    "        }\n",
    "        geojson_data[\"features\"].append(feature)"
   ]
  }
 ],
 "metadata": {
  "kernelspec": {
   "display_name": "UZVB",
   "language": "python",
   "name": "python3"
  },
  "language_info": {
   "codemirror_mode": {
    "name": "ipython",
    "version": 3
   },
   "file_extension": ".py",
   "mimetype": "text/x-python",
   "name": "python",
   "nbconvert_exporter": "python",
   "pygments_lexer": "ipython3",
   "version": "3.11.7"
  }
 },
 "nbformat": 4,
 "nbformat_minor": 2
}
